{
  "cells": [
    {
      "cell_type": "markdown",
      "metadata": {
        "id": "-MGb1W0Fhzmq"
      },
      "source": [
        "Add Lib"
      ]
    },
    {
      "cell_type": "code",
      "execution_count": 1,
      "metadata": {
        "id": "6aMfAhyhhqtj"
      },
      "outputs": [],
      "source": [
        "import numpy as np\n",
        "import pandas as pd\n",
        "import seaborn as sns\n",
        "import matplotlib.pyplot as plt"
      ]
    },
    {
      "cell_type": "markdown",
      "metadata": {
        "id": "rfuL90SLh58f"
      },
      "source": [
        "Add and Remove Data NULL"
      ]
    },
    {
      "cell_type": "code",
      "execution_count": 2,
      "metadata": {
        "id": "zMsITdAmh2IP"
      },
      "outputs": [],
      "source": [
        "file_path = '/content/Data_With_Label.csv'\n",
        "data = pd.read_csv(file_path,encoding = 'utf-8-sig')\n",
        "temp = data.loc[(data['Quanlity'] == 0) & (data['Price'] == 0) & (data['Packaging'] == 0) & (data['Service'] == 0)].index\n",
        "data = data.drop(temp)"
      ]
    },
    {
      "cell_type": "markdown",
      "metadata": {
        "id": "kXV4hdI6iCPX"
      },
      "source": [
        "Split Sen and Label"
      ]
    },
    {
      "cell_type": "code",
      "execution_count": 3,
      "metadata": {
        "id": "H8UbEeZDiB5J"
      },
      "outputs": [],
      "source": [
        "X_sen = data.sentences.values\n",
        "Y = data[['Quanlity','Price','Packaging','Service']].values"
      ]
    },
    {
      "cell_type": "markdown",
      "metadata": {
        "id": "H1rU4uu1iPSn"
      },
      "source": [
        "Add Stop Word"
      ]
    },
    {
      "cell_type": "code",
      "execution_count": 4,
      "metadata": {
        "colab": {
          "base_uri": "https://localhost:8080/"
        },
        "collapsed": true,
        "id": "yKTrKWgaiSRf",
        "outputId": "c2085db7-b40e-4997-ea4e-5c5cdb9dff34"
      },
      "outputs": [
        {
          "output_type": "stream",
          "name": "stderr",
          "text": [
            "[nltk_data] Downloading package wordnet to /root/nltk_data...\n",
            "[nltk_data] Downloading package stopwords to /root/nltk_data...\n",
            "[nltk_data]   Unzipping corpora/stopwords.zip.\n"
          ]
        }
      ],
      "source": [
        "import nltk\n",
        "nltk.download('wordnet')\n",
        "from nltk.stem import WordNetLemmatizer\n",
        "import nltk\n",
        "from nltk.corpus import stopwords\n",
        "nltk.download('stopwords')\n",
        "\n",
        "stop_words = set(stopwords.words('english'))\n",
        "\n",
        "# Remove Word have NOT\n",
        "blabla = ['weren',\"weren't\",'doesn','hasn',\"hasn't\",'haven',\"haven't\",\"isn't\",\n",
        "          \"won't\",'wouldn',\"wouldn't\",\n",
        "          \"aren't\", \"couldn't\",'couldn', 'didn', \"didn't\",'doesn',\"doesn't\",'don',\"don't\",'hadn',\"hadn't\",\n",
        "          'isn',\"isn't\",'mightn',\"mightn't\",'mustn',\"mustn't\",'needn',\"needn't\",'shan',\"shan't\",'shouldn',\n",
        "          \"shouldn't\",'wasn',\"wasn't\", \"didn't\",'not', 'nor','aren']\n",
        "for word in blabla:\n",
        "  if(word in stop_words):\n",
        "    stop_words.remove(word)"
      ]
    },
    {
      "cell_type": "markdown",
      "metadata": {
        "id": "XYjxBefmibfX"
      },
      "source": [
        "# CLean And Pre-processing Data"
      ]
    },
    {
      "cell_type": "code",
      "execution_count": 5,
      "metadata": {
        "id": "XKoXthUuihfg"
      },
      "outputs": [],
      "source": [
        "from nltk.stem import LancasterStemmer\n",
        "wnl = WordNetLemmatizer()\n",
        "stemmer = LancasterStemmer()\n",
        "\n",
        "# Word #\n",
        "\n",
        "word_dict = {\"n't\" : \" not\",\"'re\" : \" are\",\"'s\" : \" is\", \"'ve\" : \" have\"}\n",
        "def replaceWord(Word):\n",
        "  w = ''\n",
        "  run = False\n",
        "  for word in Word:\n",
        "    if word == \"'\":\n",
        "      run = True\n",
        "  if run:\n",
        "    for word in word_dict:\n",
        "      Word = Word.replace(word,word_dict[word])\n",
        "  return Word\n",
        "\n",
        "# Sentences #\n",
        "\n",
        "def replaceDot(Sen):\n",
        "  w = ''\n",
        "  for word in Sen:\n",
        "    if (ord(word) in range(33,48)) or (ord(word) in range(58,65)) or (ord(word) in range(91,97)):\n",
        "      if word == \"'\":\n",
        "        w += word\n",
        "      else:\n",
        "        w += '.'\n",
        "    else:\n",
        "      w += word.lower()\n",
        "  return replaceWord(w)\n",
        "\n",
        "Links = ['and','but','howerver']\n",
        "def splitSen(Sen):\n",
        "  temp = Sen.split('.')\n",
        "  temp_2 = []\n",
        "  for sen in temp:\n",
        "    s = ''\n",
        "    for word in sen.split():\n",
        "      if word in Links:\n",
        "        temp_2.append(s[:-1])\n",
        "        s = ''\n",
        "      else:\n",
        "        s += word + ' '\n",
        "    if s != '':\n",
        "      temp_2.append(s[:-1])\n",
        "\n",
        "  return temp_2\n",
        "\n",
        "def removeStopWord(Sen):\n",
        "  s = ''\n",
        "  for word in Sen.split():\n",
        "    if word not in stop_words:\n",
        "      s += stemmer.stem(word) + ' '\n",
        "\n",
        "  return s[:-1]\n",
        "\n",
        "# Main Pre-processing Sen #\n",
        "\n",
        "def cleanSen(Sen):\n",
        "  Sen = replaceDot(Sen)\n",
        "  temp = splitSen(Sen)\n",
        "  for index in range(len(temp)):\n",
        "    temp[index] = removeStopWord(temp[index])\n",
        "\n",
        "  return temp"
      ]
    },
    {
      "cell_type": "markdown",
      "metadata": {
        "id": "HXXC82uJxte6"
      },
      "source": [
        "clean sen"
      ]
    },
    {
      "cell_type": "code",
      "execution_count": 6,
      "metadata": {
        "id": "1rd4_PI3xIBG"
      },
      "outputs": [],
      "source": [
        "for index in range(len(X_sen)):\n",
        "  try:\n",
        "    X_sen[index] =  removeStopWord(X_sen[index])\n",
        "  except:\n",
        "    print(index)"
      ]
    },
    {
      "cell_type": "markdown",
      "metadata": {
        "id": "SReGtQSmx0gB"
      },
      "source": [
        "create Key_df"
      ]
    },
    {
      "cell_type": "code",
      "execution_count": 7,
      "metadata": {
        "id": "kBYNFg6Exzkr"
      },
      "outputs": [],
      "source": [
        "col_names = ['Key','Amount_appear','Positive','Negative','Quality','Price','Packaging','Service']\n",
        "Keys = pd.DataFrame(columns = col_names)\n",
        "Keys[col_names[1:]] = Keys[col_names[1:]].astype(float)\n",
        "index_sen = 0\n",
        "\n",
        "for sen in X_sen:\n",
        "  for Word in sen.split():\n",
        "    if Keys.loc[Keys['Key'] == Word].empty == False:\n",
        "      Keys.loc[Keys['Key'] == Word,'Amount_appear'] += 1\n",
        "      Keys.loc[Keys['Key'] == Word,col_names[-4:]] += abs(np.array(Y[index_sen]).reshape(1,4))\n",
        "      for item in Y[index_sen]:\n",
        "        if item == 1:\n",
        "          Keys.loc[Keys['Key'] == Word,'Positive'] += 1\n",
        "        elif item == -1:\n",
        "          Keys.loc[Keys['Key'] == Word,'Negative'] += 1\n",
        "    else:\n",
        "      temp = [Word,1,0,0,abs(Y[index_sen,0]),abs(Y[index_sen,1]),abs(Y[index_sen,2]),abs(Y[index_sen,3])]\n",
        "      for item in Y[index_sen]:\n",
        "        if item == 1:\n",
        "          temp[1] += 1\n",
        "        elif item == -1:\n",
        "          temp[2] += 1\n",
        "      temp = pd.DataFrame(np.array(temp).reshape(1,8),columns = col_names)\n",
        "      temp[col_names[1:]] = temp[col_names[1:]].astype(float)\n",
        "      Keys = pd.concat([Keys,temp],axis = 0)\n",
        "  index_sen += 1"
      ]
    },
    {
      "cell_type": "markdown",
      "metadata": {
        "id": "5vmr2247x3aT"
      },
      "source": [
        "Make Weight"
      ]
    },
    {
      "cell_type": "code",
      "execution_count": 8,
      "metadata": {
        "id": "gtfycXs3x44B"
      },
      "outputs": [],
      "source": [
        "def makeWeight(vec):\n",
        "  if vec[1] * vec[2] == 0:\n",
        "    if vec[1] >= vec[0]:\n",
        "      return [vec[0],1,0]\n",
        "    elif vec[2] >= vec[0]:\n",
        "      return [vec[0],0,1]\n",
        "    return [vec[0],0,0]\n",
        "\n",
        "  if vec[1] / vec[2] >= 2:\n",
        "      return [vec[0],int(vec[1] / vec[2]),0]\n",
        "  if vec[2] / vec[1] >= 2:\n",
        "    return [vec[0],0,int(vec[2] / vec[1])]\n",
        "\n",
        "  if vec[1] + vec[2] < vec[0]:\n",
        "    return [vec[0],0,0]\n",
        "  return [vec[0],0,0]\n",
        "\n",
        "Keys_2 = Keys.copy()\n",
        "for index in range(Keys.shape[0]):\n",
        "  Keys_2.iloc[index,1:4] = np.array(makeWeight(Keys_2.iloc[index,1:4].values)).reshape(1,3)\n",
        "\n",
        "  # temp = Keys_2.iloc[index,2:4].sum()\n",
        "  # if temp != 0:\n",
        "  #   Keys_2.iloc[index,2:4] /= (temp)\n",
        "\n",
        "  temp = Keys_2.iloc[index,-4:].sum()\n",
        "  if temp != 0:\n",
        "    Keys_2.iloc[index,-4:] /= (temp)"
      ]
    },
    {
      "cell_type": "markdown",
      "metadata": {
        "id": "AjwTdM96yBAN"
      },
      "source": [
        "Scaler"
      ]
    },
    {
      "cell_type": "code",
      "execution_count": 9,
      "metadata": {
        "id": "XwTlE-5eyAnl",
        "colab": {
          "base_uri": "https://localhost:8080/",
          "height": 301
        },
        "outputId": "dd0f5d0f-c400-491e-f90b-76c886397827"
      },
      "outputs": [
        {
          "output_type": "execute_result",
          "data": {
            "text/plain": [
              "       Amount_appear     Positive     Negative      Quality        Price  \\\n",
              "count    1720.000000  1720.000000  1720.000000  1720.000000  1720.000000   \n",
              "mean        3.583721     0.134884     0.052437     0.401333     0.172629   \n",
              "std         6.468429     0.269614     0.270581     0.440341     0.330168   \n",
              "min         1.000000     0.000000     0.000000     0.000000     0.000000   \n",
              "25%         1.000000     0.000000     0.000000     0.000000     0.000000   \n",
              "50%         2.000000     0.000000     0.000000     0.200000     0.000000   \n",
              "75%         3.000000     0.250000     0.000000     1.000000     0.166667   \n",
              "max        91.000000     5.000000     5.000000     1.000000     1.000000   \n",
              "\n",
              "         Packaging      Service  \n",
              "count  1720.000000  1720.000000  \n",
              "mean      0.242054     0.183984  \n",
              "std       0.358603     0.313729  \n",
              "min       0.000000     0.000000  \n",
              "25%       0.000000     0.000000  \n",
              "50%       0.000000     0.000000  \n",
              "75%       0.500000     0.333333  \n",
              "max       1.000000     1.000000  "
            ],
            "text/html": [
              "\n",
              "  <div id=\"df-5503ce10-a1c8-4c13-a2fb-822842962dcc\" class=\"colab-df-container\">\n",
              "    <div>\n",
              "<style scoped>\n",
              "    .dataframe tbody tr th:only-of-type {\n",
              "        vertical-align: middle;\n",
              "    }\n",
              "\n",
              "    .dataframe tbody tr th {\n",
              "        vertical-align: top;\n",
              "    }\n",
              "\n",
              "    .dataframe thead th {\n",
              "        text-align: right;\n",
              "    }\n",
              "</style>\n",
              "<table border=\"1\" class=\"dataframe\">\n",
              "  <thead>\n",
              "    <tr style=\"text-align: right;\">\n",
              "      <th></th>\n",
              "      <th>Amount_appear</th>\n",
              "      <th>Positive</th>\n",
              "      <th>Negative</th>\n",
              "      <th>Quality</th>\n",
              "      <th>Price</th>\n",
              "      <th>Packaging</th>\n",
              "      <th>Service</th>\n",
              "    </tr>\n",
              "  </thead>\n",
              "  <tbody>\n",
              "    <tr>\n",
              "      <th>count</th>\n",
              "      <td>1720.000000</td>\n",
              "      <td>1720.000000</td>\n",
              "      <td>1720.000000</td>\n",
              "      <td>1720.000000</td>\n",
              "      <td>1720.000000</td>\n",
              "      <td>1720.000000</td>\n",
              "      <td>1720.000000</td>\n",
              "    </tr>\n",
              "    <tr>\n",
              "      <th>mean</th>\n",
              "      <td>3.583721</td>\n",
              "      <td>0.134884</td>\n",
              "      <td>0.052437</td>\n",
              "      <td>0.401333</td>\n",
              "      <td>0.172629</td>\n",
              "      <td>0.242054</td>\n",
              "      <td>0.183984</td>\n",
              "    </tr>\n",
              "    <tr>\n",
              "      <th>std</th>\n",
              "      <td>6.468429</td>\n",
              "      <td>0.269614</td>\n",
              "      <td>0.270581</td>\n",
              "      <td>0.440341</td>\n",
              "      <td>0.330168</td>\n",
              "      <td>0.358603</td>\n",
              "      <td>0.313729</td>\n",
              "    </tr>\n",
              "    <tr>\n",
              "      <th>min</th>\n",
              "      <td>1.000000</td>\n",
              "      <td>0.000000</td>\n",
              "      <td>0.000000</td>\n",
              "      <td>0.000000</td>\n",
              "      <td>0.000000</td>\n",
              "      <td>0.000000</td>\n",
              "      <td>0.000000</td>\n",
              "    </tr>\n",
              "    <tr>\n",
              "      <th>25%</th>\n",
              "      <td>1.000000</td>\n",
              "      <td>0.000000</td>\n",
              "      <td>0.000000</td>\n",
              "      <td>0.000000</td>\n",
              "      <td>0.000000</td>\n",
              "      <td>0.000000</td>\n",
              "      <td>0.000000</td>\n",
              "    </tr>\n",
              "    <tr>\n",
              "      <th>50%</th>\n",
              "      <td>2.000000</td>\n",
              "      <td>0.000000</td>\n",
              "      <td>0.000000</td>\n",
              "      <td>0.200000</td>\n",
              "      <td>0.000000</td>\n",
              "      <td>0.000000</td>\n",
              "      <td>0.000000</td>\n",
              "    </tr>\n",
              "    <tr>\n",
              "      <th>75%</th>\n",
              "      <td>3.000000</td>\n",
              "      <td>0.250000</td>\n",
              "      <td>0.000000</td>\n",
              "      <td>1.000000</td>\n",
              "      <td>0.166667</td>\n",
              "      <td>0.500000</td>\n",
              "      <td>0.333333</td>\n",
              "    </tr>\n",
              "    <tr>\n",
              "      <th>max</th>\n",
              "      <td>91.000000</td>\n",
              "      <td>5.000000</td>\n",
              "      <td>5.000000</td>\n",
              "      <td>1.000000</td>\n",
              "      <td>1.000000</td>\n",
              "      <td>1.000000</td>\n",
              "      <td>1.000000</td>\n",
              "    </tr>\n",
              "  </tbody>\n",
              "</table>\n",
              "</div>\n",
              "    <div class=\"colab-df-buttons\">\n",
              "\n",
              "  <div class=\"colab-df-container\">\n",
              "    <button class=\"colab-df-convert\" onclick=\"convertToInteractive('df-5503ce10-a1c8-4c13-a2fb-822842962dcc')\"\n",
              "            title=\"Convert this dataframe to an interactive table.\"\n",
              "            style=\"display:none;\">\n",
              "\n",
              "  <svg xmlns=\"http://www.w3.org/2000/svg\" height=\"24px\" viewBox=\"0 -960 960 960\">\n",
              "    <path d=\"M120-120v-720h720v720H120Zm60-500h600v-160H180v160Zm220 220h160v-160H400v160Zm0 220h160v-160H400v160ZM180-400h160v-160H180v160Zm440 0h160v-160H620v160ZM180-180h160v-160H180v160Zm440 0h160v-160H620v160Z\"/>\n",
              "  </svg>\n",
              "    </button>\n",
              "\n",
              "  <style>\n",
              "    .colab-df-container {\n",
              "      display:flex;\n",
              "      gap: 12px;\n",
              "    }\n",
              "\n",
              "    .colab-df-convert {\n",
              "      background-color: #E8F0FE;\n",
              "      border: none;\n",
              "      border-radius: 50%;\n",
              "      cursor: pointer;\n",
              "      display: none;\n",
              "      fill: #1967D2;\n",
              "      height: 32px;\n",
              "      padding: 0 0 0 0;\n",
              "      width: 32px;\n",
              "    }\n",
              "\n",
              "    .colab-df-convert:hover {\n",
              "      background-color: #E2EBFA;\n",
              "      box-shadow: 0px 1px 2px rgba(60, 64, 67, 0.3), 0px 1px 3px 1px rgba(60, 64, 67, 0.15);\n",
              "      fill: #174EA6;\n",
              "    }\n",
              "\n",
              "    .colab-df-buttons div {\n",
              "      margin-bottom: 4px;\n",
              "    }\n",
              "\n",
              "    [theme=dark] .colab-df-convert {\n",
              "      background-color: #3B4455;\n",
              "      fill: #D2E3FC;\n",
              "    }\n",
              "\n",
              "    [theme=dark] .colab-df-convert:hover {\n",
              "      background-color: #434B5C;\n",
              "      box-shadow: 0px 1px 3px 1px rgba(0, 0, 0, 0.15);\n",
              "      filter: drop-shadow(0px 1px 2px rgba(0, 0, 0, 0.3));\n",
              "      fill: #FFFFFF;\n",
              "    }\n",
              "  </style>\n",
              "\n",
              "    <script>\n",
              "      const buttonEl =\n",
              "        document.querySelector('#df-5503ce10-a1c8-4c13-a2fb-822842962dcc button.colab-df-convert');\n",
              "      buttonEl.style.display =\n",
              "        google.colab.kernel.accessAllowed ? 'block' : 'none';\n",
              "\n",
              "      async function convertToInteractive(key) {\n",
              "        const element = document.querySelector('#df-5503ce10-a1c8-4c13-a2fb-822842962dcc');\n",
              "        const dataTable =\n",
              "          await google.colab.kernel.invokeFunction('convertToInteractive',\n",
              "                                                    [key], {});\n",
              "        if (!dataTable) return;\n",
              "\n",
              "        const docLinkHtml = 'Like what you see? Visit the ' +\n",
              "          '<a target=\"_blank\" href=https://colab.research.google.com/notebooks/data_table.ipynb>data table notebook</a>'\n",
              "          + ' to learn more about interactive tables.';\n",
              "        element.innerHTML = '';\n",
              "        dataTable['output_type'] = 'display_data';\n",
              "        await google.colab.output.renderOutput(dataTable, element);\n",
              "        const docLink = document.createElement('div');\n",
              "        docLink.innerHTML = docLinkHtml;\n",
              "        element.appendChild(docLink);\n",
              "      }\n",
              "    </script>\n",
              "  </div>\n",
              "\n",
              "\n",
              "<div id=\"df-bd2d0553-f266-4874-a1e1-949688f3f656\">\n",
              "  <button class=\"colab-df-quickchart\" onclick=\"quickchart('df-bd2d0553-f266-4874-a1e1-949688f3f656')\"\n",
              "            title=\"Suggest charts\"\n",
              "            style=\"display:none;\">\n",
              "\n",
              "<svg xmlns=\"http://www.w3.org/2000/svg\" height=\"24px\"viewBox=\"0 0 24 24\"\n",
              "     width=\"24px\">\n",
              "    <g>\n",
              "        <path d=\"M19 3H5c-1.1 0-2 .9-2 2v14c0 1.1.9 2 2 2h14c1.1 0 2-.9 2-2V5c0-1.1-.9-2-2-2zM9 17H7v-7h2v7zm4 0h-2V7h2v10zm4 0h-2v-4h2v4z\"/>\n",
              "    </g>\n",
              "</svg>\n",
              "  </button>\n",
              "\n",
              "<style>\n",
              "  .colab-df-quickchart {\n",
              "      --bg-color: #E8F0FE;\n",
              "      --fill-color: #1967D2;\n",
              "      --hover-bg-color: #E2EBFA;\n",
              "      --hover-fill-color: #174EA6;\n",
              "      --disabled-fill-color: #AAA;\n",
              "      --disabled-bg-color: #DDD;\n",
              "  }\n",
              "\n",
              "  [theme=dark] .colab-df-quickchart {\n",
              "      --bg-color: #3B4455;\n",
              "      --fill-color: #D2E3FC;\n",
              "      --hover-bg-color: #434B5C;\n",
              "      --hover-fill-color: #FFFFFF;\n",
              "      --disabled-bg-color: #3B4455;\n",
              "      --disabled-fill-color: #666;\n",
              "  }\n",
              "\n",
              "  .colab-df-quickchart {\n",
              "    background-color: var(--bg-color);\n",
              "    border: none;\n",
              "    border-radius: 50%;\n",
              "    cursor: pointer;\n",
              "    display: none;\n",
              "    fill: var(--fill-color);\n",
              "    height: 32px;\n",
              "    padding: 0;\n",
              "    width: 32px;\n",
              "  }\n",
              "\n",
              "  .colab-df-quickchart:hover {\n",
              "    background-color: var(--hover-bg-color);\n",
              "    box-shadow: 0 1px 2px rgba(60, 64, 67, 0.3), 0 1px 3px 1px rgba(60, 64, 67, 0.15);\n",
              "    fill: var(--button-hover-fill-color);\n",
              "  }\n",
              "\n",
              "  .colab-df-quickchart-complete:disabled,\n",
              "  .colab-df-quickchart-complete:disabled:hover {\n",
              "    background-color: var(--disabled-bg-color);\n",
              "    fill: var(--disabled-fill-color);\n",
              "    box-shadow: none;\n",
              "  }\n",
              "\n",
              "  .colab-df-spinner {\n",
              "    border: 2px solid var(--fill-color);\n",
              "    border-color: transparent;\n",
              "    border-bottom-color: var(--fill-color);\n",
              "    animation:\n",
              "      spin 1s steps(1) infinite;\n",
              "  }\n",
              "\n",
              "  @keyframes spin {\n",
              "    0% {\n",
              "      border-color: transparent;\n",
              "      border-bottom-color: var(--fill-color);\n",
              "      border-left-color: var(--fill-color);\n",
              "    }\n",
              "    20% {\n",
              "      border-color: transparent;\n",
              "      border-left-color: var(--fill-color);\n",
              "      border-top-color: var(--fill-color);\n",
              "    }\n",
              "    30% {\n",
              "      border-color: transparent;\n",
              "      border-left-color: var(--fill-color);\n",
              "      border-top-color: var(--fill-color);\n",
              "      border-right-color: var(--fill-color);\n",
              "    }\n",
              "    40% {\n",
              "      border-color: transparent;\n",
              "      border-right-color: var(--fill-color);\n",
              "      border-top-color: var(--fill-color);\n",
              "    }\n",
              "    60% {\n",
              "      border-color: transparent;\n",
              "      border-right-color: var(--fill-color);\n",
              "    }\n",
              "    80% {\n",
              "      border-color: transparent;\n",
              "      border-right-color: var(--fill-color);\n",
              "      border-bottom-color: var(--fill-color);\n",
              "    }\n",
              "    90% {\n",
              "      border-color: transparent;\n",
              "      border-bottom-color: var(--fill-color);\n",
              "    }\n",
              "  }\n",
              "</style>\n",
              "\n",
              "  <script>\n",
              "    async function quickchart(key) {\n",
              "      const quickchartButtonEl =\n",
              "        document.querySelector('#' + key + ' button');\n",
              "      quickchartButtonEl.disabled = true;  // To prevent multiple clicks.\n",
              "      quickchartButtonEl.classList.add('colab-df-spinner');\n",
              "      try {\n",
              "        const charts = await google.colab.kernel.invokeFunction(\n",
              "            'suggestCharts', [key], {});\n",
              "      } catch (error) {\n",
              "        console.error('Error during call to suggestCharts:', error);\n",
              "      }\n",
              "      quickchartButtonEl.classList.remove('colab-df-spinner');\n",
              "      quickchartButtonEl.classList.add('colab-df-quickchart-complete');\n",
              "    }\n",
              "    (() => {\n",
              "      let quickchartButtonEl =\n",
              "        document.querySelector('#df-bd2d0553-f266-4874-a1e1-949688f3f656 button');\n",
              "      quickchartButtonEl.style.display =\n",
              "        google.colab.kernel.accessAllowed ? 'block' : 'none';\n",
              "    })();\n",
              "  </script>\n",
              "</div>\n",
              "    </div>\n",
              "  </div>\n"
            ],
            "application/vnd.google.colaboratory.intrinsic+json": {
              "type": "dataframe",
              "summary": "{\n  \"name\": \"Keys_2\",\n  \"rows\": 8,\n  \"fields\": [\n    {\n      \"column\": \"Amount_appear\",\n      \"properties\": {\n        \"dtype\": \"number\",\n        \"std\": 603.4459202674906,\n        \"min\": 1.0,\n        \"max\": 1720.0,\n        \"num_unique_values\": 7,\n        \"samples\": [\n          1720.0,\n          3.583720930232558,\n          3.0\n        ],\n        \"semantic_type\": \"\",\n        \"description\": \"\"\n      }\n    },\n    {\n      \"column\": \"Positive\",\n      \"properties\": {\n        \"dtype\": \"number\",\n        \"std\": 607.8286556882247,\n        \"min\": 0.0,\n        \"max\": 1720.0,\n        \"num_unique_values\": 6,\n        \"samples\": [\n          1720.0,\n          0.13488372093023257,\n          5.0\n        ],\n        \"semantic_type\": \"\",\n        \"description\": \"\"\n      }\n    },\n    {\n      \"column\": \"Negative\",\n      \"properties\": {\n        \"dtype\": \"number\",\n        \"std\": 607.845449847352,\n        \"min\": 0.0,\n        \"max\": 1720.0,\n        \"num_unique_values\": 5,\n        \"samples\": [\n          0.05243738819320215,\n          5.0,\n          0.2705808614885985\n        ],\n        \"semantic_type\": \"\",\n        \"description\": \"\"\n      }\n    },\n    {\n      \"column\": \"Quality\",\n      \"properties\": {\n        \"dtype\": \"number\",\n        \"std\": 607.9583301722745,\n        \"min\": 0.0,\n        \"max\": 1720.0,\n        \"num_unique_values\": 6,\n        \"samples\": [\n          1720.0,\n          0.4013327755736625,\n          1.0\n        ],\n        \"semantic_type\": \"\",\n        \"description\": \"\"\n      }\n    },\n    {\n      \"column\": \"Price\",\n      \"properties\": {\n        \"dtype\": \"number\",\n        \"std\": 608.0276013967497,\n        \"min\": 0.0,\n        \"max\": 1720.0,\n        \"num_unique_values\": 6,\n        \"samples\": [\n          1720.0,\n          0.17262945189163478,\n          1.0\n        ],\n        \"semantic_type\": \"\",\n        \"description\": \"\"\n      }\n    },\n    {\n      \"column\": \"Packaging\",\n      \"properties\": {\n        \"dtype\": \"number\",\n        \"std\": 608.0058273984496,\n        \"min\": 0.0,\n        \"max\": 1720.0,\n        \"num_unique_values\": 6,\n        \"samples\": [\n          1720.0,\n          0.2420536777750793,\n          1.0\n        ],\n        \"semantic_type\": \"\",\n        \"description\": \"\"\n      }\n    },\n    {\n      \"column\": \"Service\",\n      \"properties\": {\n        \"dtype\": \"number\",\n        \"std\": 608.0194398191038,\n        \"min\": 0.0,\n        \"max\": 1720.0,\n        \"num_unique_values\": 6,\n        \"samples\": [\n          1720.0,\n          0.18398409475962346,\n          1.0\n        ],\n        \"semantic_type\": \"\",\n        \"description\": \"\"\n      }\n    }\n  ]\n}"
            }
          },
          "metadata": {},
          "execution_count": 9
        }
      ],
      "source": [
        "from sklearn.preprocessing import MinMaxScaler\n",
        "\n",
        "scaler = MinMaxScaler(feature_range=(0, 5))\n",
        "\n",
        "Keys_2[col_names[2:4]]= scaler.fit_transform(Keys_2[col_names[2:4]])\n",
        "Keys_2.describe()"
      ]
    },
    {
      "cell_type": "markdown",
      "metadata": {
        "id": "3addxbRayJLP"
      },
      "source": [
        "Sen to Vector"
      ]
    },
    {
      "cell_type": "code",
      "execution_count": 10,
      "metadata": {
        "id": "b4SWMYpqyLoW"
      },
      "outputs": [],
      "source": [
        "def sen2vec(Sen,ver = 0):\n",
        "  temp = pd.DataFrame(columns = col_names)\n",
        "  for word in Sen.split():\n",
        "    if Keys_2.loc[Keys_2['Key'] == word].empty == False:\n",
        "      temp = pd.concat([temp,Keys_2.loc[Keys_2['Key'] == word]], axis = 0)\n",
        "\n",
        "  if temp.empty:\n",
        "    vec = [0,0,0,0,0,0]\n",
        "    return np.array(vec).reshape(1,6)\n",
        "\n",
        "  result = temp.iloc[:,2:].sum().values.reshape(1,6)\n",
        "  if ver != 0:\n",
        "    result[2:] = result[2:] / temp.shape[0]\n",
        "  return result\n",
        "\n",
        "# Main #\n",
        "\n",
        "X = sen2vec(X_sen[0])\n",
        "for index in range(1,len(X_sen)):\n",
        "  X = np.vstack((X,sen2vec(X_sen[index])))"
      ]
    },
    {
      "cell_type": "markdown",
      "metadata": {
        "id": "qQsPPO_hy5Xx"
      },
      "source": [
        "process Label"
      ]
    },
    {
      "cell_type": "code",
      "execution_count": 11,
      "metadata": {
        "id": "P91r-GOVy7Wp"
      },
      "outputs": [],
      "source": [
        "def processLabel(Label):\n",
        "  a = 1\n",
        "  for item in Label:\n",
        "    if item != 0:\n",
        "      a *= item\n",
        "  if a == 1:\n",
        "    return np.append([1,0],abs(Label))\n",
        "  if a == -1:\n",
        "    return np.append([0,1],abs(Label))\n",
        "\n",
        "Y_pro = processLabel(Y[0])\n",
        "for index in range(1,len(Y)):\n",
        "  Y_pro = np.vstack((Y_pro,processLabel(Y[index])))"
      ]
    },
    {
      "cell_type": "markdown",
      "metadata": {
        "id": "5m_MknfQyVPw"
      },
      "source": [
        "Make Train and Test"
      ]
    },
    {
      "cell_type": "code",
      "execution_count": 12,
      "metadata": {
        "id": "lT55fEDmyX0F"
      },
      "outputs": [],
      "source": [
        "from sklearn.model_selection import train_test_split\n",
        "\n",
        "X_train, X_test, y_train, y_test = train_test_split(X, Y_pro, test_size= 0.2, random_state = 42)"
      ]
    },
    {
      "cell_type": "markdown",
      "metadata": {
        "id": "YpWoc4BpyaE9"
      },
      "source": [
        "Model"
      ]
    },
    {
      "cell_type": "code",
      "execution_count": 83,
      "metadata": {
        "id": "BiPl-nEMyb61"
      },
      "outputs": [],
      "source": [
        "# from sklearn import svm\n",
        "# from sklearn.neighbors import KNeighborsClassifier\n",
        "\n",
        "# md_pos = svm.SVC(kernel = 'rbf', C = 100,gamma = 0.1)\n",
        "# md_neg = svm.SVC(kernel = 'rbf',C = 100,gamma = 0.1)\n",
        "# md_qua = svm.SVC(kernel = 'rbf')\n",
        "# md_pri = svm.SVC(kernel = 'rbf')\n",
        "# md_pac = svm.SVC(kernel = 'rbf')\n",
        "# md_ser = svm.SVC(kernel = 'rbf')\n",
        "\n",
        "\n",
        "# md_pos.fit(X_train[:,:2].reshape(-1,2),y_train[:,0])\n",
        "# md_neg.fit(X_train[:,:2].reshape(-1,2),y_train[:,1])\n",
        "# md_qua.fit(X_train[:,2:].reshape(-1,4),y_train[:,2])\n",
        "# md_pri.fit(X_train[:,2:].reshape(-1,4),y_train[:,3])\n",
        "# md_pac.fit(X_train[:,2:].reshape(-1,4),y_train[:,4])\n",
        "# md_ser.fit(X_train[:,2:].reshape(-1,4),y_train[:,5])\n",
        "\n",
        "# def md_predict(vec):\n",
        "#   lb = [0,0,0,0,0,0]\n",
        "#   lb[0] = md_pos.predict(vec[:2].reshape(1,2))[0]\n",
        "#   lb[1] = md_neg.predict(vec[:2].reshape(1,2))[0]\n",
        "#   lb[2] = md_qua.predict(vec[2:].reshape(1,4))[0]\n",
        "#   lb[3] = md_pri.predict(vec[2:].reshape(1,4))[0]\n",
        "#   lb[4] = md_pac.predict(vec[2:].reshape(1,4))[0]\n",
        "#   lb[5] = md_ser.predict(vec[2:].reshape(1,4))[0]\n",
        "#   return np.array(lb)\n",
        "\n",
        "# y_pred = md_predict(X_test[0])\n",
        "# for index in range(1,len(X_test)):\n",
        "#   y_pred = np.vstack([y_pred,md_predict(X_test[index])])"
      ]
    },
    {
      "cell_type": "code",
      "source": [
        "# from sklearn import svm\n",
        "# from sklearn.neighbors import KNeighborsClassifier\n",
        "\n",
        "# md_pos = KNeighborsClassifier(n_neighbors = 15)\n",
        "# md_neg = KNeighborsClassifier(n_neighbors = 15)\n",
        "# md_qua = KNeighborsClassifier(n_neighbors = 15)\n",
        "# md_pri = KNeighborsClassifier(n_neighbors = 15)\n",
        "# md_pac = KNeighborsClassifier(n_neighbors = 15)\n",
        "# md_ser = KNeighborsClassifier(n_neighbors = 15)\n",
        "\n",
        "\n",
        "# md_pos.fit(X_train[:,:2].reshape(-1,2),y_train[:,0])\n",
        "# md_neg.fit(X_train[:,:2].reshape(-1,2),y_train[:,1])\n",
        "# md_qua.fit(X_train[:,2:].reshape(-1,4),y_train[:,2])\n",
        "# md_pri.fit(X_train[:,2:].reshape(-1,4),y_train[:,3])\n",
        "# md_pac.fit(X_train[:,2:].reshape(-1,4),y_train[:,4])\n",
        "# md_ser.fit(X_train[:,2:].reshape(-1,4),y_train[:,5])\n",
        "\n",
        "# def md_predict(vec):\n",
        "#   lb = [0,0,0,0,0,0]\n",
        "#   lb[0] = md_pos.predict(vec[:2].reshape(1,2))[0]\n",
        "#   lb[1] = md_neg.predict(vec[:2].reshape(1,2))[0]\n",
        "#   lb[2] = md_qua.predict(vec[2:].reshape(1,4))[0]\n",
        "#   lb[3] = md_pri.predict(vec[2:].reshape(1,4))[0]\n",
        "#   lb[4] = md_pac.predict(vec[2:].reshape(1,4))[0]\n",
        "#   lb[5] = md_ser.predict(vec[2:].reshape(1,4))[0]\n",
        "#   return np.array(lb)\n",
        "\n",
        "# y_pred = md_predict(X_test[0])\n",
        "# for index in range(1,len(X_test)):\n",
        "#   y_pred = np.vstack([y_pred,md_predict(X_test[index])])"
      ],
      "metadata": {
        "id": "evCtzGC4XtBe"
      },
      "execution_count": 84,
      "outputs": []
    },
    {
      "cell_type": "code",
      "source": [
        "from sklearn import svm\n",
        "from sklearn.linear_model import LogisticRegression\n",
        "\n",
        "md_pos = LogisticRegression()\n",
        "md_neg = LogisticRegression()\n",
        "md_qua = LogisticRegression()\n",
        "md_pri = LogisticRegression()\n",
        "md_pac = LogisticRegression()\n",
        "md_ser = LogisticRegression()\n",
        "\n",
        "\n",
        "md_pos.fit(X_train[:,:2].reshape(-1,2),y_train[:,0])\n",
        "md_neg.fit(X_train[:,:2].reshape(-1,2),y_train[:,1])\n",
        "md_qua.fit(X_train[:,2:].reshape(-1,4),y_train[:,2])\n",
        "md_pri.fit(X_train[:,2:].reshape(-1,4),y_train[:,3])\n",
        "md_pac.fit(X_train[:,2:].reshape(-1,4),y_train[:,4])\n",
        "md_ser.fit(X_train[:,2:].reshape(-1,4),y_train[:,5])\n",
        "\n",
        "def md_predict(vec):\n",
        "  lb = [0,0,0,0,0,0]\n",
        "  lb[0] = md_pos.predict(vec[:2].reshape(1,2))[0]\n",
        "  lb[1] = md_neg.predict(vec[:2].reshape(1,2))[0]\n",
        "  lb[2] = md_qua.predict(vec[2:].reshape(1,4))[0]\n",
        "  lb[3] = md_pri.predict(vec[2:].reshape(1,4))[0]\n",
        "  lb[4] = md_pac.predict(vec[2:].reshape(1,4))[0]\n",
        "  lb[5] = md_ser.predict(vec[2:].reshape(1,4))[0]\n",
        "  return np.array(lb)\n",
        "\n",
        "y_pred = md_predict(X_test[0])\n",
        "for index in range(1,len(X_test)):\n",
        "  y_pred = np.vstack([y_pred,md_predict(X_test[index])])"
      ],
      "metadata": {
        "id": "gIrhj0IDl4ya"
      },
      "execution_count": 89,
      "outputs": []
    },
    {
      "cell_type": "markdown",
      "metadata": {
        "id": "rCUyONBFym8W"
      },
      "source": [
        "Show Accuracy"
      ]
    },
    {
      "cell_type": "code",
      "execution_count": 92,
      "metadata": {
        "id": "uz3yENmiysP4",
        "colab": {
          "base_uri": "https://localhost:8080/"
        },
        "outputId": "ad114ff6-43c6-47ae-a110-c580be853205"
      },
      "outputs": [
        {
          "output_type": "execute_result",
          "data": {
            "text/plain": [
              "array([[0.87014315, 0.85768448, 0.82147196, 0.83629287]])"
            ]
          },
          "metadata": {},
          "execution_count": 92
        }
      ],
      "source": [
        "def cal_accuracy(matrix):\n",
        "  sum = matrix[0][0] + matrix[0][1] + matrix[1][0] + matrix[1][1]\n",
        "\n",
        "  accuracy = (matrix[0][0] + matrix[1][1]) / sum\n",
        "  precision = matrix[1][1] / (matrix[1][1] + matrix[0][1])\n",
        "  recall = matrix[1][1] / (matrix[1][1] + matrix[1][0])\n",
        "  f1_score = (2 * precision * recall) / (precision + recall)\n",
        "\n",
        "  return [accuracy,precision,recall,f1_score]\n",
        "\n",
        "result = np.array([0.,0.,0.,0.]).reshape(1,4)\n",
        "for index in range(6):\n",
        "  x = [[0,0],[0,0]]\n",
        "  for index_2 in range(len(y_test)):\n",
        "    x[y_test[index_2][index]][y_pred[index_2][index]] += 1\n",
        "  temp = np.array(cal_accuracy(x)).reshape(1,4)\n",
        "  result += temp\n",
        "result / 6"
      ]
    },
    {
      "cell_type": "markdown",
      "metadata": {
        "id": "uMA5djAczEgx"
      },
      "source": [
        "# Predict Review"
      ]
    },
    {
      "cell_type": "code",
      "source": [
        "def analReview(Review):\n",
        "  sen_list = cleanSen(Review)\n",
        "  pos = np.array([0,0,0,0]).reshape(1,4)\n",
        "  neg = np.array([0,0,0,0]).reshape(1,4)\n",
        "\n",
        "  vec_list = []\n",
        "  for sen in sen_list:\n",
        "    vec_list.append(sen2vec(sen)[0])\n",
        "\n",
        "  for index in range(len(vec_list)):\n",
        "    temp = md_predict(vec_list[index])\n",
        "    if temp[0] == 1:\n",
        "      pos += temp[2:]\n",
        "    if temp[1] == 1:\n",
        "      neg += temp[2:]\n",
        "\n",
        "  sen_dict = {\n",
        "      0 : 'Quality',\n",
        "      1 : 'Price',\n",
        "      2 : 'Packaging',\n",
        "      3 : 'Service'\n",
        "  }\n",
        "\n",
        "  for index in range(4):\n",
        "    result = 'None'\n",
        "    if pos[0,index] >= 1:\n",
        "      result = 'pos'\n",
        "    if neg[0,index] >= 1:\n",
        "      if result == 'None':\n",
        "        result = 'neg'\n",
        "      else:\n",
        "        result += ' - neg'\n",
        "    print(sen_dict[index],\" : \",result)\n",
        "\n",
        "\n",
        "  return pos, neg\n",
        "\n",
        "text = \"The price was great, but the taste is not great. The expiration date is 2023. It’s flat.\"\n",
        "analReview(text)"
      ],
      "metadata": {
        "colab": {
          "base_uri": "https://localhost:8080/"
        },
        "id": "Qqj_IDQ5IaSr",
        "outputId": "c4cf578e-5f4b-445f-b5e6-8151031acb3a"
      },
      "execution_count": 93,
      "outputs": [
        {
          "output_type": "stream",
          "name": "stdout",
          "text": [
            "Quality  :  pos\n",
            "Price  :  pos\n",
            "Packaging  :  None\n",
            "Service  :  pos\n"
          ]
        },
        {
          "output_type": "execute_result",
          "data": {
            "text/plain": [
              "(array([[1, 1, 0, 1]]), array([[0, 0, 0, 0]]))"
            ]
          },
          "metadata": {},
          "execution_count": 93
        }
      ]
    }
  ],
  "metadata": {
    "colab": {
      "provenance": []
    },
    "kernelspec": {
      "display_name": "Python 3",
      "name": "python3"
    },
    "language_info": {
      "name": "python"
    }
  },
  "nbformat": 4,
  "nbformat_minor": 0
}

{
  "nbformat": 4,
  "nbformat_minor": 0,
  "metadata": {
    "colab": {
      "provenance": [],
      "toc_visible": true
    },
    "kernelspec": {
      "name": "python3",
      "display_name": "Python 3"
    },
    "language_info": {
      "name": "python"
    }
  },
  "cells": [
    {
      "cell_type": "markdown",
      "source": [
        "# Data\n"
      ],
      "metadata": {
        "id": "URVif_teLdyx"
      }
    },
    {
      "cell_type": "code",
      "execution_count": 18,
      "metadata": {
        "id": "myNuULqq8QiA"
      },
      "outputs": [],
      "source": [
        "import pandas as pd\n",
        "import numpy as np\n",
        "from sklearn.feature_extraction.text import CountVectorizer\n",
        "import sklearn.metrics as metrics"
      ]
    },
    {
      "cell_type": "code",
      "source": [
        "df = pd.read_csv('https://raw.githubusercontent.com/MaPhat/DS108_Project/main/Final_data.csv')\n",
        "\n",
        "  # Type, Sentence\n",
        "X = df['Sentence'].values.tolist()\n",
        "  # Quality,\tPrice,\tPackaging,\tService,\tSentiment\n",
        "y = df.drop(['Type', 'Sentence'], axis=1).values.tolist()"
      ],
      "metadata": {
        "id": "ADVVmSUZ8con"
      },
      "execution_count": 19,
      "outputs": []
    },
    {
      "cell_type": "code",
      "source": [
        "df.head()"
      ],
      "metadata": {
        "colab": {
          "base_uri": "https://localhost:8080/",
          "height": 206
        },
        "id": "KoHTP7VYHFf2",
        "outputId": "6d917c43-15d0-4c76-ecb4-e7cc640da5c5"
      },
      "execution_count": 20,
      "outputs": [
        {
          "output_type": "execute_result",
          "data": {
            "text/plain": [
              "   Type                                           Sentence  Quality  Price  \\\n",
              "0     0  i recently purchased the pepsi cola soda 12oz ...        1      0   \n",
              "1     0  as a long-time fan of pepsi, i was thrilled to...        0      0   \n",
              "2     0  first and foremost, the taste of pepsi cola re...        1      0   \n",
              "3     0  the perfect balance of sweetness and carbonati...        1      0   \n",
              "4     0  whether enjoyed alone or paired with a meal, p...        1      0   \n",
              "\n",
              "   Packaging  Service  Sentiment  \n",
              "0          0        0          2  \n",
              "1          1        0          2  \n",
              "2          0        0          2  \n",
              "3          0        0          2  \n",
              "4          0        0          2  "
            ],
            "text/html": [
              "\n",
              "  <div id=\"df-90491542-ee4f-4a8e-a3fb-d8cb43650fe0\" class=\"colab-df-container\">\n",
              "    <div>\n",
              "<style scoped>\n",
              "    .dataframe tbody tr th:only-of-type {\n",
              "        vertical-align: middle;\n",
              "    }\n",
              "\n",
              "    .dataframe tbody tr th {\n",
              "        vertical-align: top;\n",
              "    }\n",
              "\n",
              "    .dataframe thead th {\n",
              "        text-align: right;\n",
              "    }\n",
              "</style>\n",
              "<table border=\"1\" class=\"dataframe\">\n",
              "  <thead>\n",
              "    <tr style=\"text-align: right;\">\n",
              "      <th></th>\n",
              "      <th>Type</th>\n",
              "      <th>Sentence</th>\n",
              "      <th>Quality</th>\n",
              "      <th>Price</th>\n",
              "      <th>Packaging</th>\n",
              "      <th>Service</th>\n",
              "      <th>Sentiment</th>\n",
              "    </tr>\n",
              "  </thead>\n",
              "  <tbody>\n",
              "    <tr>\n",
              "      <th>0</th>\n",
              "      <td>0</td>\n",
              "      <td>i recently purchased the pepsi cola soda 12oz ...</td>\n",
              "      <td>1</td>\n",
              "      <td>0</td>\n",
              "      <td>0</td>\n",
              "      <td>0</td>\n",
              "      <td>2</td>\n",
              "    </tr>\n",
              "    <tr>\n",
              "      <th>1</th>\n",
              "      <td>0</td>\n",
              "      <td>as a long-time fan of pepsi, i was thrilled to...</td>\n",
              "      <td>0</td>\n",
              "      <td>0</td>\n",
              "      <td>1</td>\n",
              "      <td>0</td>\n",
              "      <td>2</td>\n",
              "    </tr>\n",
              "    <tr>\n",
              "      <th>2</th>\n",
              "      <td>0</td>\n",
              "      <td>first and foremost, the taste of pepsi cola re...</td>\n",
              "      <td>1</td>\n",
              "      <td>0</td>\n",
              "      <td>0</td>\n",
              "      <td>0</td>\n",
              "      <td>2</td>\n",
              "    </tr>\n",
              "    <tr>\n",
              "      <th>3</th>\n",
              "      <td>0</td>\n",
              "      <td>the perfect balance of sweetness and carbonati...</td>\n",
              "      <td>1</td>\n",
              "      <td>0</td>\n",
              "      <td>0</td>\n",
              "      <td>0</td>\n",
              "      <td>2</td>\n",
              "    </tr>\n",
              "    <tr>\n",
              "      <th>4</th>\n",
              "      <td>0</td>\n",
              "      <td>whether enjoyed alone or paired with a meal, p...</td>\n",
              "      <td>1</td>\n",
              "      <td>0</td>\n",
              "      <td>0</td>\n",
              "      <td>0</td>\n",
              "      <td>2</td>\n",
              "    </tr>\n",
              "  </tbody>\n",
              "</table>\n",
              "</div>\n",
              "    <div class=\"colab-df-buttons\">\n",
              "\n",
              "  <div class=\"colab-df-container\">\n",
              "    <button class=\"colab-df-convert\" onclick=\"convertToInteractive('df-90491542-ee4f-4a8e-a3fb-d8cb43650fe0')\"\n",
              "            title=\"Convert this dataframe to an interactive table.\"\n",
              "            style=\"display:none;\">\n",
              "\n",
              "  <svg xmlns=\"http://www.w3.org/2000/svg\" height=\"24px\" viewBox=\"0 -960 960 960\">\n",
              "    <path d=\"M120-120v-720h720v720H120Zm60-500h600v-160H180v160Zm220 220h160v-160H400v160Zm0 220h160v-160H400v160ZM180-400h160v-160H180v160Zm440 0h160v-160H620v160ZM180-180h160v-160H180v160Zm440 0h160v-160H620v160Z\"/>\n",
              "  </svg>\n",
              "    </button>\n",
              "\n",
              "  <style>\n",
              "    .colab-df-container {\n",
              "      display:flex;\n",
              "      gap: 12px;\n",
              "    }\n",
              "\n",
              "    .colab-df-convert {\n",
              "      background-color: #E8F0FE;\n",
              "      border: none;\n",
              "      border-radius: 50%;\n",
              "      cursor: pointer;\n",
              "      display: none;\n",
              "      fill: #1967D2;\n",
              "      height: 32px;\n",
              "      padding: 0 0 0 0;\n",
              "      width: 32px;\n",
              "    }\n",
              "\n",
              "    .colab-df-convert:hover {\n",
              "      background-color: #E2EBFA;\n",
              "      box-shadow: 0px 1px 2px rgba(60, 64, 67, 0.3), 0px 1px 3px 1px rgba(60, 64, 67, 0.15);\n",
              "      fill: #174EA6;\n",
              "    }\n",
              "\n",
              "    .colab-df-buttons div {\n",
              "      margin-bottom: 4px;\n",
              "    }\n",
              "\n",
              "    [theme=dark] .colab-df-convert {\n",
              "      background-color: #3B4455;\n",
              "      fill: #D2E3FC;\n",
              "    }\n",
              "\n",
              "    [theme=dark] .colab-df-convert:hover {\n",
              "      background-color: #434B5C;\n",
              "      box-shadow: 0px 1px 3px 1px rgba(0, 0, 0, 0.15);\n",
              "      filter: drop-shadow(0px 1px 2px rgba(0, 0, 0, 0.3));\n",
              "      fill: #FFFFFF;\n",
              "    }\n",
              "  </style>\n",
              "\n",
              "    <script>\n",
              "      const buttonEl =\n",
              "        document.querySelector('#df-90491542-ee4f-4a8e-a3fb-d8cb43650fe0 button.colab-df-convert');\n",
              "      buttonEl.style.display =\n",
              "        google.colab.kernel.accessAllowed ? 'block' : 'none';\n",
              "\n",
              "      async function convertToInteractive(key) {\n",
              "        const element = document.querySelector('#df-90491542-ee4f-4a8e-a3fb-d8cb43650fe0');\n",
              "        const dataTable =\n",
              "          await google.colab.kernel.invokeFunction('convertToInteractive',\n",
              "                                                    [key], {});\n",
              "        if (!dataTable) return;\n",
              "\n",
              "        const docLinkHtml = 'Like what you see? Visit the ' +\n",
              "          '<a target=\"_blank\" href=https://colab.research.google.com/notebooks/data_table.ipynb>data table notebook</a>'\n",
              "          + ' to learn more about interactive tables.';\n",
              "        element.innerHTML = '';\n",
              "        dataTable['output_type'] = 'display_data';\n",
              "        await google.colab.output.renderOutput(dataTable, element);\n",
              "        const docLink = document.createElement('div');\n",
              "        docLink.innerHTML = docLinkHtml;\n",
              "        element.appendChild(docLink);\n",
              "      }\n",
              "    </script>\n",
              "  </div>\n",
              "\n",
              "\n",
              "<div id=\"df-fb03b304-476c-4df3-8a70-1e3bb23a8c09\">\n",
              "  <button class=\"colab-df-quickchart\" onclick=\"quickchart('df-fb03b304-476c-4df3-8a70-1e3bb23a8c09')\"\n",
              "            title=\"Suggest charts\"\n",
              "            style=\"display:none;\">\n",
              "\n",
              "<svg xmlns=\"http://www.w3.org/2000/svg\" height=\"24px\"viewBox=\"0 0 24 24\"\n",
              "     width=\"24px\">\n",
              "    <g>\n",
              "        <path d=\"M19 3H5c-1.1 0-2 .9-2 2v14c0 1.1.9 2 2 2h14c1.1 0 2-.9 2-2V5c0-1.1-.9-2-2-2zM9 17H7v-7h2v7zm4 0h-2V7h2v10zm4 0h-2v-4h2v4z\"/>\n",
              "    </g>\n",
              "</svg>\n",
              "  </button>\n",
              "\n",
              "<style>\n",
              "  .colab-df-quickchart {\n",
              "      --bg-color: #E8F0FE;\n",
              "      --fill-color: #1967D2;\n",
              "      --hover-bg-color: #E2EBFA;\n",
              "      --hover-fill-color: #174EA6;\n",
              "      --disabled-fill-color: #AAA;\n",
              "      --disabled-bg-color: #DDD;\n",
              "  }\n",
              "\n",
              "  [theme=dark] .colab-df-quickchart {\n",
              "      --bg-color: #3B4455;\n",
              "      --fill-color: #D2E3FC;\n",
              "      --hover-bg-color: #434B5C;\n",
              "      --hover-fill-color: #FFFFFF;\n",
              "      --disabled-bg-color: #3B4455;\n",
              "      --disabled-fill-color: #666;\n",
              "  }\n",
              "\n",
              "  .colab-df-quickchart {\n",
              "    background-color: var(--bg-color);\n",
              "    border: none;\n",
              "    border-radius: 50%;\n",
              "    cursor: pointer;\n",
              "    display: none;\n",
              "    fill: var(--fill-color);\n",
              "    height: 32px;\n",
              "    padding: 0;\n",
              "    width: 32px;\n",
              "  }\n",
              "\n",
              "  .colab-df-quickchart:hover {\n",
              "    background-color: var(--hover-bg-color);\n",
              "    box-shadow: 0 1px 2px rgba(60, 64, 67, 0.3), 0 1px 3px 1px rgba(60, 64, 67, 0.15);\n",
              "    fill: var(--button-hover-fill-color);\n",
              "  }\n",
              "\n",
              "  .colab-df-quickchart-complete:disabled,\n",
              "  .colab-df-quickchart-complete:disabled:hover {\n",
              "    background-color: var(--disabled-bg-color);\n",
              "    fill: var(--disabled-fill-color);\n",
              "    box-shadow: none;\n",
              "  }\n",
              "\n",
              "  .colab-df-spinner {\n",
              "    border: 2px solid var(--fill-color);\n",
              "    border-color: transparent;\n",
              "    border-bottom-color: var(--fill-color);\n",
              "    animation:\n",
              "      spin 1s steps(1) infinite;\n",
              "  }\n",
              "\n",
              "  @keyframes spin {\n",
              "    0% {\n",
              "      border-color: transparent;\n",
              "      border-bottom-color: var(--fill-color);\n",
              "      border-left-color: var(--fill-color);\n",
              "    }\n",
              "    20% {\n",
              "      border-color: transparent;\n",
              "      border-left-color: var(--fill-color);\n",
              "      border-top-color: var(--fill-color);\n",
              "    }\n",
              "    30% {\n",
              "      border-color: transparent;\n",
              "      border-left-color: var(--fill-color);\n",
              "      border-top-color: var(--fill-color);\n",
              "      border-right-color: var(--fill-color);\n",
              "    }\n",
              "    40% {\n",
              "      border-color: transparent;\n",
              "      border-right-color: var(--fill-color);\n",
              "      border-top-color: var(--fill-color);\n",
              "    }\n",
              "    60% {\n",
              "      border-color: transparent;\n",
              "      border-right-color: var(--fill-color);\n",
              "    }\n",
              "    80% {\n",
              "      border-color: transparent;\n",
              "      border-right-color: var(--fill-color);\n",
              "      border-bottom-color: var(--fill-color);\n",
              "    }\n",
              "    90% {\n",
              "      border-color: transparent;\n",
              "      border-bottom-color: var(--fill-color);\n",
              "    }\n",
              "  }\n",
              "</style>\n",
              "\n",
              "  <script>\n",
              "    async function quickchart(key) {\n",
              "      const quickchartButtonEl =\n",
              "        document.querySelector('#' + key + ' button');\n",
              "      quickchartButtonEl.disabled = true;  // To prevent multiple clicks.\n",
              "      quickchartButtonEl.classList.add('colab-df-spinner');\n",
              "      try {\n",
              "        const charts = await google.colab.kernel.invokeFunction(\n",
              "            'suggestCharts', [key], {});\n",
              "      } catch (error) {\n",
              "        console.error('Error during call to suggestCharts:', error);\n",
              "      }\n",
              "      quickchartButtonEl.classList.remove('colab-df-spinner');\n",
              "      quickchartButtonEl.classList.add('colab-df-quickchart-complete');\n",
              "    }\n",
              "    (() => {\n",
              "      let quickchartButtonEl =\n",
              "        document.querySelector('#df-fb03b304-476c-4df3-8a70-1e3bb23a8c09 button');\n",
              "      quickchartButtonEl.style.display =\n",
              "        google.colab.kernel.accessAllowed ? 'block' : 'none';\n",
              "    })();\n",
              "  </script>\n",
              "</div>\n",
              "\n",
              "    </div>\n",
              "  </div>\n"
            ],
            "application/vnd.google.colaboratory.intrinsic+json": {
              "type": "dataframe",
              "variable_name": "df",
              "summary": "{\n  \"name\": \"df\",\n  \"rows\": 1191,\n  \"fields\": [\n    {\n      \"column\": \"Type\",\n      \"properties\": {\n        \"dtype\": \"number\",\n        \"std\": 0,\n        \"min\": 0,\n        \"max\": 1,\n        \"num_unique_values\": 2,\n        \"samples\": [\n          1,\n          0\n        ],\n        \"semantic_type\": \"\",\n        \"description\": \"\"\n      }\n    },\n    {\n      \"column\": \"Sentence\",\n      \"properties\": {\n        \"dtype\": \"string\",\n        \"num_unique_values\": 1182,\n        \"samples\": [\n          \"Damaged leaking box wrapped in plastic by post office Labeled RECEIVED IN DAMAGED CONDITION.\",\n          \"I know lots of people here know what I\\u2019m talking about and how frustrating it is.\"\n        ],\n        \"semantic_type\": \"\",\n        \"description\": \"\"\n      }\n    },\n    {\n      \"column\": \"Quality\",\n      \"properties\": {\n        \"dtype\": \"number\",\n        \"std\": 0,\n        \"min\": 0,\n        \"max\": 1,\n        \"num_unique_values\": 2,\n        \"samples\": [\n          0,\n          1\n        ],\n        \"semantic_type\": \"\",\n        \"description\": \"\"\n      }\n    },\n    {\n      \"column\": \"Price\",\n      \"properties\": {\n        \"dtype\": \"number\",\n        \"std\": 0,\n        \"min\": 0,\n        \"max\": 1,\n        \"num_unique_values\": 2,\n        \"samples\": [\n          1,\n          0\n        ],\n        \"semantic_type\": \"\",\n        \"description\": \"\"\n      }\n    },\n    {\n      \"column\": \"Packaging\",\n      \"properties\": {\n        \"dtype\": \"number\",\n        \"std\": 0,\n        \"min\": 0,\n        \"max\": 1,\n        \"num_unique_values\": 2,\n        \"samples\": [\n          1,\n          0\n        ],\n        \"semantic_type\": \"\",\n        \"description\": \"\"\n      }\n    },\n    {\n      \"column\": \"Service\",\n      \"properties\": {\n        \"dtype\": \"number\",\n        \"std\": 0,\n        \"min\": 0,\n        \"max\": 1,\n        \"num_unique_values\": 2,\n        \"samples\": [\n          1,\n          0\n        ],\n        \"semantic_type\": \"\",\n        \"description\": \"\"\n      }\n    },\n    {\n      \"column\": \"Sentiment\",\n      \"properties\": {\n        \"dtype\": \"number\",\n        \"std\": 0,\n        \"min\": 0,\n        \"max\": 2,\n        \"num_unique_values\": 3,\n        \"samples\": [\n          2,\n          1\n        ],\n        \"semantic_type\": \"\",\n        \"description\": \"\"\n      }\n    }\n  ]\n}"
            }
          },
          "metadata": {},
          "execution_count": 20
        }
      ]
    },
    {
      "cell_type": "code",
      "source": [
        "  # build Count Vectorizer\n",
        "vectorizer = CountVectorizer(stop_words = 'english')\n",
        "  # transform to matrix\n",
        "X_vectorized = vectorizer.fit_transform(X)"
      ],
      "metadata": {
        "id": "GiCrs9jE9NGj"
      },
      "execution_count": 21,
      "outputs": []
    },
    {
      "cell_type": "code",
      "source": [
        "from sklearn.model_selection import train_test_split\n",
        "X_train, X_test, y_train, y_test = train_test_split(X_vectorized, y, test_size=0.3, random_state=42)"
      ],
      "metadata": {
        "id": "ePjy0vab9g63"
      },
      "execution_count": 22,
      "outputs": []
    },
    {
      "cell_type": "code",
      "source": [
        "X_vectorized"
      ],
      "metadata": {
        "colab": {
          "base_uri": "https://localhost:8080/"
        },
        "id": "snnu3iAPAQzM",
        "outputId": "0565ff5f-ffa1-4bf9-c435-0f2cf9492cca"
      },
      "execution_count": 23,
      "outputs": [
        {
          "output_type": "execute_result",
          "data": {
            "text/plain": [
              "<1191x1652 sparse matrix of type '<class 'numpy.int64'>'\n",
              "\twith 5731 stored elements in Compressed Sparse Row format>"
            ]
          },
          "metadata": {},
          "execution_count": 23
        }
      ]
    },
    {
      "cell_type": "code",
      "source": [
        "def split_sentiment(data):\n",
        "  Quanlity = []\n",
        "  Price = []\n",
        "  Packaging = []\n",
        "  Service = []\n",
        "  Sentiment = []\n",
        "\n",
        "  for key in data:\n",
        "    Quanlity.append(key[0])\n",
        "    Price.append(key[1])\n",
        "    Packaging.append(key[2])\n",
        "    Service.append(key[3])\n",
        "    Sentiment.append(key[4])\n",
        "\n",
        "  return Quanlity, Price, Packaging, Service, Sentiment"
      ],
      "metadata": {
        "id": "mRnd3w9D780N"
      },
      "execution_count": 24,
      "outputs": []
    },
    {
      "cell_type": "code",
      "source": [
        "# Average ratio of model evaluation parameters\n",
        "def Average_ratio (name):\n",
        "  sum_thso  = 0\n",
        "  if name == 'accuracy':\n",
        "    for x, y in zip(pred, test):\n",
        "      sum_thso += metrics.accuracy_score(x, y)\n",
        "\n",
        "  if name == 'precision':\n",
        "    for x, y in zip(pred, test):\n",
        "      sum_thso += metrics.precision_score(x, y, average='macro', zero_division=1)\n",
        "\n",
        "  if name == 'recall':\n",
        "    for x, y in zip(pred, test):\n",
        "      sum_thso += metrics.recall_score(x, y, average='macro', zero_division=1)\n",
        "\n",
        "  if name == 'f1':\n",
        "    for x, y in zip(pred, test):\n",
        "      sum_thso += metrics.f1_score(x, y, average='macro', zero_division=1)\n",
        "\n",
        "  return sum_thso/5"
      ],
      "metadata": {
        "id": "XBy5REVq_kJI"
      },
      "execution_count": 25,
      "outputs": []
    },
    {
      "cell_type": "code",
      "source": [
        "def Aspect_ratio (name):\n",
        "  sum_thso  = []\n",
        "  if name == 'accuracy':\n",
        "    for y, x in zip(pred, test):\n",
        "      sum_thso.append(metrics.accuracy_score(x, y))\n",
        "\n",
        "  elif name == 'precision':\n",
        "    for y, x in zip(pred, test):\n",
        "      sum_thso.append(metrics.precision_score(x, y, average='macro', zero_division=1))\n",
        "\n",
        "  elif name == 'recall':\n",
        "    for y, x in zip(pred, test):\n",
        "      sum_thso.append(metrics.recall_score(x, y, average='macro', zero_division=1))\n",
        "\n",
        "  elif name == 'f1':\n",
        "    for y, x in zip(pred, test):\n",
        "      sum_thso.append(metrics.f1_score(x, y, average='macro', zero_division=1))\n",
        "\n",
        "  return sum_thso"
      ],
      "metadata": {
        "id": "g68rRshvi-12"
      },
      "execution_count": 26,
      "outputs": []
    },
    {
      "cell_type": "markdown",
      "source": [
        "# KNN"
      ],
      "metadata": {
        "id": "63vrClZdcxOe"
      }
    },
    {
      "cell_type": "code",
      "source": [
        "from sklearn.neighbors import KNeighborsClassifier\n",
        "\n",
        "model = KNeighborsClassifier(n_neighbors=3)\n",
        "model.fit(X_train, y_train)\n",
        "y_pred = model.predict(X_test)\n",
        "\n",
        "pred_1, pred_2, pred_3, pred_4, pred_5 = split_sentiment(y_pred)\n",
        "test_1, test_2, test_3, test_4, test_5 = split_sentiment(y_test)\n",
        "\n",
        "pred = [pred_1, pred_2, pred_3, pred_4, pred_5]\n",
        "test = [test_1, test_2, test_3, test_4, test_5]"
      ],
      "metadata": {
        "id": "7rHJvzhuIZ2o"
      },
      "execution_count": 45,
      "outputs": []
    },
    {
      "cell_type": "code",
      "source": [
        "for x in ['accuracy', 'precision', 'recall', 'f1']:\n",
        "  print(x,' : ', Average_ratio(x))"
      ],
      "metadata": {
        "colab": {
          "base_uri": "https://localhost:8080/"
        },
        "id": "DsP_K5pNcpIT",
        "outputId": "557c7529-31d1-4390-a345-50fb2c2fcd89"
      },
      "execution_count": 46,
      "outputs": [
        {
          "output_type": "stream",
          "name": "stdout",
          "text": [
            "accuracy  :  0.7642458100558659\n",
            "precision  :  0.5847503555984712\n",
            "recall  :  0.7574346008698194\n",
            "f1  :  0.5987808916395521\n"
          ]
        }
      ]
    },
    {
      "cell_type": "code",
      "source": [
        "tieuchi = ['Quanlity', 'Price', 'Packaging', 'Service', 'Sentiment']\n",
        "for x in ['accuracy', 'precision', 'recall', 'f1']:\n",
        "  print(f'*{x}* \\n-------------------------------')\n",
        "  a = Aspect_ratio(x)\n",
        "  for i, tc in zip(a, tieuchi):\n",
        "    print(f' - {tc}: {i}')\n",
        "  print('==============================')"
      ],
      "metadata": {
        "colab": {
          "base_uri": "https://localhost:8080/"
        },
        "id": "BeZiCZg5kgJp",
        "outputId": "aa243c31-25a6-4aec-d13e-3887537b06e5"
      },
      "execution_count": 47,
      "outputs": [
        {
          "output_type": "stream",
          "name": "stdout",
          "text": [
            "*accuracy* \n",
            "-------------------------------\n",
            " - Quanlity: 0.7541899441340782\n",
            " - Price: 0.8910614525139665\n",
            " - Packaging: 0.88268156424581\n",
            " - Service: 0.8547486033519553\n",
            " - Sentiment: 0.43854748603351956\n",
            "==============================\n",
            "*precision* \n",
            "-------------------------------\n",
            " - Quanlity: 0.8194695599758891\n",
            " - Price: 0.9187869822485206\n",
            " - Packaging: 0.692101172813339\n",
            " - Service: 0.8346125730994152\n",
            " - Sentiment: 0.5222027162119328\n",
            "==============================\n",
            "*recall* \n",
            "-------------------------------\n",
            " - Quanlity: 0.6472631286468464\n",
            " - Price: 0.6650055370985604\n",
            " - Packaging: 0.6046010617834885\n",
            " - Service: 0.5997711421098518\n",
            " - Sentiment: 0.4071109083536091\n",
            "==============================\n",
            "*f1* \n",
            "-------------------------------\n",
            " - Quanlity: 0.6519971721456346\n",
            " - Price: 0.7162368148283641\n",
            " - Packaging: 0.6291802308375259\n",
            " - Service: 0.625914315569488\n",
            " - Sentiment: 0.370575924816748\n",
            "==============================\n"
          ]
        }
      ]
    },
    {
      "cell_type": "markdown",
      "source": [
        "# SVM"
      ],
      "metadata": {
        "id": "gkhzEql0oXTG"
      }
    },
    {
      "cell_type": "code",
      "source": [
        "from sklearn.svm import SVC\n",
        "from sklearn import svm\n",
        "\n",
        "model2 = svm.SVC()\n",
        "\n",
        "train1, train2, train3, train4, train5 = split_sentiment(y_train)\n",
        "test_1, test_2, test_3, test_4, test_5 = split_sentiment(y_test)\n",
        "\n",
        "train = [train1, train2, train3, train4, train5]\n",
        "test = [test_1, test_2, test_3, test_4, test_5]\n",
        "\n",
        "pred = []\n",
        "for yt in train:\n",
        "  model2.fit(X_train, yt)\n",
        "  y_pred = model2.predict(X_test)\n",
        "  pred.append(y_pred)\n"
      ],
      "metadata": {
        "id": "pAHRdyBjoZYz"
      },
      "execution_count": 48,
      "outputs": []
    },
    {
      "cell_type": "code",
      "source": [
        "for x in ['accuracy', 'precision', 'recall', 'f1']:\n",
        "  print(x, Average_ratio(x))"
      ],
      "metadata": {
        "colab": {
          "base_uri": "https://localhost:8080/"
        },
        "id": "UZmW4u4HpUJO",
        "outputId": "eae9bc12-2fd0-4e5b-9125-bc3a614e52dd"
      },
      "execution_count": 49,
      "outputs": [
        {
          "output_type": "stream",
          "name": "stdout",
          "text": [
            "accuracy 0.8033519553072626\n",
            "precision 0.6274980472209443\n",
            "recall 0.7990504103494454\n",
            "f1 0.6502027956657259\n"
          ]
        }
      ]
    },
    {
      "cell_type": "code",
      "source": [
        "for x in ['accuracy', 'precision', 'recall', 'f1']:\n",
        "  print(f'*{x}* \\n---------------------------------')\n",
        "  a = Aspect_ratio(x)\n",
        "  for i, tc in zip(a, tieuchi):\n",
        "    print(f' - {tc}: {i}')\n",
        "\n",
        "  print('=================================')"
      ],
      "metadata": {
        "colab": {
          "base_uri": "https://localhost:8080/"
        },
        "id": "DNQxL78XpgJG",
        "outputId": "9f04dbb3-0fbd-4580-b762-2760d4022786"
      },
      "execution_count": 50,
      "outputs": [
        {
          "output_type": "stream",
          "name": "stdout",
          "text": [
            "*accuracy* \n",
            "---------------------------------\n",
            " - Quanlity: 0.8100558659217877\n",
            " - Price: 0.9189944134078212\n",
            " - Packaging: 0.8938547486033519\n",
            " - Service: 0.8519553072625698\n",
            " - Sentiment: 0.5418994413407822\n",
            "=================================\n",
            "*precision* \n",
            "---------------------------------\n",
            " - Quanlity: 0.8596338273757629\n",
            " - Price: 0.956060606060606\n",
            " - Packaging: 0.8475920679886686\n",
            " - Service: 0.8105054338450923\n",
            " - Sentiment: 0.5214601164770968\n",
            "=================================\n",
            "*recall* \n",
            "---------------------------------\n",
            " - Quanlity: 0.7292303417616004\n",
            " - Price: 0.7456140350877193\n",
            " - Packaging: 0.547203200738632\n",
            " - Service: 0.5980819529206626\n",
            " - Sentiment: 0.517360705596107\n",
            "=================================\n",
            "*f1* \n",
            "---------------------------------\n",
            " - Quanlity: 0.7513076168682575\n",
            " - Price: 0.8064323669245828\n",
            " - Packaging: 0.5585983127839066\n",
            " - Service: 0.6229557061383463\n",
            " - Sentiment: 0.5117199756135364\n",
            "=================================\n"
          ]
        }
      ]
    },
    {
      "cell_type": "markdown",
      "source": [
        "# Logistic"
      ],
      "metadata": {
        "id": "Gv0AndDh3M0I"
      }
    },
    {
      "cell_type": "code",
      "source": [
        "import sklearn.linear_model as linear_model\n",
        "model3 = linear_model.LogisticRegression(C=1e5, solver = 'lbfgs', max_iter=1000)\n",
        "\n",
        "train1, train2, train3, train4, train5 = split_sentiment(y_train)\n",
        "test_1, test_2, test_3, test_4, test_5 = split_sentiment(y_test)\n",
        "\n",
        "train = [train1, train2, train3, train4, train5]\n",
        "test = [test_1, test_2, test_3, test_4, test_5]\n",
        "\n",
        "pred = []\n",
        "for yt in train:\n",
        "  model3.fit(X_train, yt)\n",
        "  y_pred = model3.predict(X_test)\n",
        "  pred.append(y_pred)\n",
        "\n"
      ],
      "metadata": {
        "colab": {
          "base_uri": "https://localhost:8080/"
        },
        "id": "Wn9GCWAz3PBt",
        "outputId": "0dcaa83c-2142-4bb6-f933-12a8c660a878"
      },
      "execution_count": 51,
      "outputs": [
        {
          "output_type": "stream",
          "name": "stderr",
          "text": [
            "/usr/local/lib/python3.10/dist-packages/sklearn/linear_model/_logistic.py:458: ConvergenceWarning: lbfgs failed to converge (status=1):\n",
            "STOP: TOTAL NO. of ITERATIONS REACHED LIMIT.\n",
            "\n",
            "Increase the number of iterations (max_iter) or scale the data as shown in:\n",
            "    https://scikit-learn.org/stable/modules/preprocessing.html\n",
            "Please also refer to the documentation for alternative solver options:\n",
            "    https://scikit-learn.org/stable/modules/linear_model.html#logistic-regression\n",
            "  n_iter_i = _check_optimize_result(\n"
          ]
        }
      ]
    },
    {
      "cell_type": "code",
      "source": [
        "for x in ['accuracy', 'precision', 'recall', 'f1']:\n",
        "  print(x, Average_ratio(x))"
      ],
      "metadata": {
        "colab": {
          "base_uri": "https://localhost:8080/"
        },
        "id": "v9enbZ9F5ZsE",
        "outputId": "ff0bd58c-2d0f-473d-c0d7-c5296a0d8040"
      },
      "execution_count": 52,
      "outputs": [
        {
          "output_type": "stream",
          "name": "stdout",
          "text": [
            "accuracy 0.788826815642458\n",
            "precision 0.6850909940478276\n",
            "recall 0.7061667819884281\n",
            "f1 0.6924675678089429\n"
          ]
        }
      ]
    },
    {
      "cell_type": "code",
      "source": [
        "for x in ['accuracy', 'precision', 'recall', 'f1']:\n",
        "  print(f'*{x}* \\n-----------------------------------')\n",
        "  a = Aspect_ratio(x)\n",
        "  for i, tc in zip(a, tieuchi):\n",
        "    print(f' - {tc}: {i}')\n",
        "\n",
        "  print('================================')"
      ],
      "metadata": {
        "colab": {
          "base_uri": "https://localhost:8080/"
        },
        "id": "6sT8JDdC5cxL",
        "outputId": "1f115f17-e124-41fd-ad2f-899038c48af2"
      },
      "execution_count": 53,
      "outputs": [
        {
          "output_type": "stream",
          "name": "stdout",
          "text": [
            "*accuracy* \n",
            "-----------------------------------\n",
            " - Quanlity: 0.8072625698324022\n",
            " - Price: 0.9413407821229051\n",
            " - Packaging: 0.8156424581005587\n",
            " - Service: 0.8379888268156425\n",
            " - Sentiment: 0.5418994413407822\n",
            "================================\n",
            "*precision* \n",
            "-----------------------------------\n",
            " - Quanlity: 0.7870280908928252\n",
            " - Price: 0.9133064516129032\n",
            " - Packaging: 0.5818483745289647\n",
            " - Service: 0.7121006630500302\n",
            " - Sentiment: 0.5365503298574165\n",
            "================================\n",
            "*recall* \n",
            "-----------------------------------\n",
            " - Quanlity: 0.7785843289802723\n",
            " - Price: 0.858454275222941\n",
            " - Packaging: 0.5985996768485035\n",
            " - Service: 0.6533892763731474\n",
            " - Sentiment: 0.5364274128142741\n",
            "================================\n",
            "*f1* \n",
            "-----------------------------------\n",
            " - Quanlity: 0.7824053275547685\n",
            " - Price: 0.8828150572831424\n",
            " - Packaging: 0.5884197324414715\n",
            " - Service: 0.6737682252388135\n",
            " - Sentiment: 0.534929496526519\n",
            "================================\n"
          ]
        }
      ]
    }
  ]
}
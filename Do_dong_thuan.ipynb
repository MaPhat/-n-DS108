{
  "nbformat": 4,
  "nbformat_minor": 0,
  "metadata": {
    "colab": {
      "provenance": []
    },
    "kernelspec": {
      "name": "python3",
      "display_name": "Python 3"
    },
    "language_info": {
      "name": "python"
    }
  },
  "cells": [
    {
      "cell_type": "code",
      "execution_count": 108,
      "metadata": {
        "id": "dvfMTBNxbGel"
      },
      "outputs": [],
      "source": [
        "import pandas as pd\n",
        "from sklearn.metrics import cohen_kappa_score"
      ]
    },
    {
      "cell_type": "code",
      "source": [
        "Data_Nguyen = pd.read_csv('Data_Nguyen.csv')\n",
        "Data_Phat = pd.read_csv('Data_Phat.csv')"
      ],
      "metadata": {
        "id": "j6AvoAYYcKoY"
      },
      "execution_count": 3,
      "outputs": []
    },
    {
      "cell_type": "code",
      "source": [
        "Data_Nguyen = Data_Nguyen.iloc[0:203]\n",
        "Data_Phat = Data_Phat.iloc[0:203]"
      ],
      "metadata": {
        "id": "VW7WAl41u2aE"
      },
      "execution_count": 75,
      "outputs": []
    },
    {
      "cell_type": "code",
      "source": [
        "packaging_nguyen = Data_Nguyen['Packaging']\n",
        "packaging_phat = Data_Phat['Packaging']\n",
        "price_nguyen = Data_Nguyen['Price']\n",
        "price_phat = Data_Phat['Price']\n",
        "service_nguyen = Data_Nguyen['Service']\n",
        "service_phat = Data_Phat['Service']\n",
        "qual_nguyen = Data_Nguyen['Quality']\n",
        "qual_phat = Data_Phat['Quality']\n",
        "sent_nguyen = Data_Nguyen['Sentiment']\n",
        "sent_phat = Data_Phat['Sentiment']"
      ],
      "metadata": {
        "id": "RMEFOMJvcdI9"
      },
      "execution_count": 102,
      "outputs": []
    },
    {
      "cell_type": "code",
      "source": [
        "kappa_score = cohen_kappa_score(qual_phat, qual_nguyen)\n",
        "print(f\"Kappa của Cohen của quality được gán nhãn bởi Phát và Nguyên: {kappa_score}\")"
      ],
      "metadata": {
        "colab": {
          "base_uri": "https://localhost:8080/"
        },
        "id": "yvAf0TMGpImV",
        "outputId": "75d63ae4-6de6-48ed-ca04-360656ccc9c0"
      },
      "execution_count": 104,
      "outputs": [
        {
          "output_type": "stream",
          "name": "stdout",
          "text": [
            "Kappa của Cohen của quality được gán nhãn bởi Phát và Nguyên: 0.7510668563300142\n"
          ]
        }
      ]
    },
    {
      "cell_type": "code",
      "source": [
        "kappa_score = cohen_kappa_score(price_phat, price_nguyen)\n",
        "print(f\"Kappa của Cohen của price được gán nhãn bởi Phát và Nguyên: {kappa_score}\")"
      ],
      "metadata": {
        "colab": {
          "base_uri": "https://localhost:8080/"
        },
        "id": "-vkm_hCY0twK",
        "outputId": "3e0e69a6-4639-45e6-9673-ae3586910833"
      },
      "execution_count": 105,
      "outputs": [
        {
          "output_type": "stream",
          "name": "stdout",
          "text": [
            "Kappa của Cohen của price được gán nhãn bởi Phát và Nguyên: 0.8780780780780781\n"
          ]
        }
      ]
    },
    {
      "cell_type": "code",
      "source": [
        "kappa_score = cohen_kappa_score(packaging_phat, packaging_nguyen)\n",
        "print(f\"Kappa của Cohen của packaging được gán nhãn bởi Phát và Nguyên: {kappa_score}\")"
      ],
      "metadata": {
        "colab": {
          "base_uri": "https://localhost:8080/"
        },
        "id": "Cn74ZGB2065u",
        "outputId": "7a97b445-a307-45c7-f5ad-91c5a8c977cd"
      },
      "execution_count": 106,
      "outputs": [
        {
          "output_type": "stream",
          "name": "stdout",
          "text": [
            "Kappa của Cohen của packaging được gán nhãn bởi Phát và Nguyên: 0.7514792899408285\n"
          ]
        }
      ]
    },
    {
      "cell_type": "code",
      "source": [
        "kappa_score = cohen_kappa_score(service_phat, service_nguyen)\n",
        "print(f\"Kappa của Cohen của service được gán nhãn bởi Phát và Nguyên: {kappa_score}\")"
      ],
      "metadata": {
        "colab": {
          "base_uri": "https://localhost:8080/"
        },
        "id": "N0n_Iciy1Bbm",
        "outputId": "9963f1a2-d1fa-4575-e026-29ff20f58909"
      },
      "execution_count": 107,
      "outputs": [
        {
          "output_type": "stream",
          "name": "stdout",
          "text": [
            "Kappa của Cohen của service được gán nhãn bởi Phát và Nguyên: 0.7130235023855804\n"
          ]
        }
      ]
    }
  ]
}
